{
 "cells": [
  {
   "cell_type": "code",
   "execution_count": 56,
   "id": "437323f8-ebd1-437c-a77c-14bca04f6766",
   "metadata": {},
   "outputs": [
    {
     "name": "stdout",
     "output_type": "stream",
     "text": [
      "['а', 'б', 'в', 'г', 'д', 'е', 'ж', 'з', 'и', 'й', 'к', 'л', 'м', 'н', 'о', 'п', 'р', 'с', 'т', 'у', 'ф', 'х', 'ц', 'ч', 'ш', 'щ', 'ъ', 'ы', 'ь', 'э', 'ю', 'я']\n"
     ]
    }
   ],
   "source": [
    "import math\n",
    "ru_alphabet = [chr(code) for code in range(ord(\"а\"), ord(\"а\") + 32)]\n",
    "print(ru_alphabet)\n",
    "f = open(\"TEXT\").read().lower()"
   ]
  },
  {
   "cell_type": "code",
   "execution_count": 101,
   "id": "d711b067-0e0f-4942-b142-6f6c41651f77",
   "metadata": {},
   "outputs": [
    {
     "name": "stdout",
     "output_type": "stream",
     "text": [
      "{'\\n': 4353, '1': 8, '—': 6512, ':': 103, ',': 13115, '.': 9326, '-': 839, '?': 1748, '!': 900, '«': 139, '»': 139, '2': 10, '…': 905, 'v': 20, 'e': 125, 's': 37, 'k': 1, 'h': 23, 'a': 74, 'l': 47, '3': 5, 'ё': 10, '4': 5, '5': 4, '6': 4, '7': 4, '8': 4, '9': 2, '0': 0, 'c': 18, 'd': 51, 'm': 14, 'i': 29, 'n': 62, 't': 33, 'u': 11, 'g': 16, 'w': 12, 'y': 14, 'b': 15, 'o': 13, 'r': 25, 'p': 2, '’': 15, ';': 0, 'f': 6, 'x': 0, '„': 0, '“': 0}\n"
     ]
    }
   ],
   "source": [
    "dict_ = {}\n",
    "\n",
    "for i in f:\n",
    "    if i not in ru_alphabet:\n",
    "        if i not in dict_:\n",
    "            dict_[i] = 0\n",
    "        else:\n",
    "            dict_[i] += 1\n",
    "        \n",
    "print(dict_)\n",
    "filtered_f = f\n",
    "for i in dict_:\n",
    "    filtered_f = filtered_f.replace(i,' ')\n",
    "    \n",
    "filtered_f = ' '.join(filtered_f.split())\n",
    "nospace_f = filtered_f.replace(' ','')\n",
    "\n"
   ]
  },
  {
   "cell_type": "code",
   "execution_count": 96,
   "id": "0d73fb43-7193-49e2-9902-28c91d953097",
   "metadata": {},
   "outputs": [],
   "source": [
    "\n",
    "ru_alphabet = [chr(code) for code in range(ord(\"а\"), ord(\"а\") + 32)]\n",
    "\n",
    "char_frequency = {}\n",
    "for i in ru_alphabet:\n",
    "    char_frequency[i] = nospace_f.count(i) / len(nospace_f)\n",
    "    \n",
    "bigram_frequency = {}\n",
    "for i,val in enumerate(nospace_f):\n",
    "    if i +1 >= len(nospace_f):\n",
    "        break\n",
    "    temp = nospace_f[i] + nospace_f[i+1]\n",
    "    if temp not in bigram_frequency:\n",
    "        bigram_frequency[temp] = nospace_f.count(temp) / (len(nospace_f))\n",
    "        \n",
    "    \n",
    "ru_alphabet.append(\" \")\n",
    "char_frequency_space = {}\n",
    "for i in ru_alphabet:\n",
    "    char_frequency_space[i] = filtered_f.count(i) / len(filtered_f)\n",
    "    \n",
    "\n",
    "bigram_frequency_space = {}\n",
    "for i,val in enumerate(filtered_f):\n",
    "    if i +1 >= len(filtered_f):\n",
    "        break\n",
    "    temp = filtered_f[i] + filtered_f[i+1]\n",
    "    if temp not in bigram_frequency_space and ' ' not in temp:\n",
    "        bigram_frequency_space[temp] = filtered_f.count(temp) / (len(filtered_f))\n",
    "        \n"
   ]
  },
  {
   "cell_type": "code",
   "execution_count": 99,
   "id": "e084414d-d70c-4f2e-a41f-a72dff52fb37",
   "metadata": {},
   "outputs": [
    {
     "name": "stdout",
     "output_type": "stream",
     "text": [
      "4.492315117172669\n",
      "4.1802847959379115\n",
      "4.406442333151592\n",
      "2.9080400719491637\n"
     ]
    }
   ],
   "source": [
    "\n",
    "def entropy(dict_,n):\n",
    "    sum_ = 0\n",
    "    for p in dict_.values():\n",
    "        sum_ += p * math.log2(p)\n",
    "    return 1/n * ( -sum_)\n",
    "    \n",
    "cfe = entropy(char_frequency,1)\n",
    "bfe = entropy(bigram_frequency,2)\n",
    "cfse = entropy(char_frequency_space,1)\n",
    "bfse = entropy(bigram_frequency_space,2)\n",
    "print(cfe)\n",
    "print(bfe )\n",
    "print(cfse )\n",
    "print(bfse )\n",
    "\n"
   ]
  },
  {
   "cell_type": "code",
   "execution_count": 98,
   "id": "cec2ad52-4eb9-4f60-824c-19bd778e8b40",
   "metadata": {},
   "outputs": [
    {
     "name": "stdout",
     "output_type": "stream",
     "text": [
      "0.10153697656546612\n",
      "0.16394304081241773\n",
      "0.11871153336968165\n",
      "0.4183919856101672\n"
     ]
    }
   ],
   "source": [
    "def redundancy(H,n):\n",
    "    return 1 - (H/(math.log2(n)))\n",
    "\n",
    "print(redundancy(cfe,len(ru_alphabet) - 1))\n",
    "print(redundancy(bfe,len(ru_alphabet) - 1))\n",
    "print(redundancy(cfse,len(ru_alphabet) - 1))\n",
    "print(redundancy(bfse,len(ru_alphabet) - 1))"
   ]
  }
 ],
 "metadata": {
  "kernelspec": {
   "display_name": "Python 3 (ipykernel)",
   "language": "python",
   "name": "python3"
  },
  "language_info": {
   "codemirror_mode": {
    "name": "ipython",
    "version": 3
   },
   "file_extension": ".py",
   "mimetype": "text/x-python",
   "name": "python",
   "nbconvert_exporter": "python",
   "pygments_lexer": "ipython3",
   "version": "3.8.10"
  }
 },
 "nbformat": 4,
 "nbformat_minor": 5
}
